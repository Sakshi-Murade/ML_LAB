{
 "cells": [
  {
   "cell_type": "code",
   "execution_count": 1,
   "metadata": {},
   "outputs": [],
   "source": [
    "import pandas as pd\n",
    "import numpy as np \n",
    "import matplotlib.pyplot as platform\n",
    "import seaborn as sns \n"
   ]
  },
  {
   "cell_type": "code",
   "execution_count": 2,
   "metadata": {},
   "outputs": [],
   "source": [
    "from sklearn.model_selection import train_test_split\n",
    "from pandas.core.common import random_state\n",
    "from sklearn.linear_model import LinearRegression"
   ]
  },
  {
   "cell_type": "code",
   "execution_count": 3,
   "metadata": {},
   "outputs": [
    {
     "data": {
      "text/html": [
       "<div>\n",
       "<style scoped>\n",
       "    .dataframe tbody tr th:only-of-type {\n",
       "        vertical-align: middle;\n",
       "    }\n",
       "\n",
       "    .dataframe tbody tr th {\n",
       "        vertical-align: top;\n",
       "    }\n",
       "\n",
       "    .dataframe thead th {\n",
       "        text-align: right;\n",
       "    }\n",
       "</style>\n",
       "<table border=\"1\" class=\"dataframe\">\n",
       "  <thead>\n",
       "    <tr style=\"text-align: right;\">\n",
       "      <th></th>\n",
       "      <th>Date</th>\n",
       "      <th>USD_Price</th>\n",
       "      <th>GBP_Price</th>\n",
       "      <th>CAD_Price</th>\n",
       "      <th>AUD_Price</th>\n",
       "    </tr>\n",
       "  </thead>\n",
       "  <tbody>\n",
       "    <tr>\n",
       "      <th>0</th>\n",
       "      <td>1999-01-01</td>\n",
       "      <td>42.490000</td>\n",
       "      <td>69.928000</td>\n",
       "      <td>28.130000</td>\n",
       "      <td>26.792000</td>\n",
       "    </tr>\n",
       "    <tr>\n",
       "      <th>1</th>\n",
       "      <td>1999-01-02</td>\n",
       "      <td>42.496129</td>\n",
       "      <td>69.878516</td>\n",
       "      <td>28.135548</td>\n",
       "      <td>26.779645</td>\n",
       "    </tr>\n",
       "    <tr>\n",
       "      <th>2</th>\n",
       "      <td>1999-01-03</td>\n",
       "      <td>42.502258</td>\n",
       "      <td>69.829032</td>\n",
       "      <td>28.141097</td>\n",
       "      <td>26.767290</td>\n",
       "    </tr>\n",
       "    <tr>\n",
       "      <th>3</th>\n",
       "      <td>1999-01-04</td>\n",
       "      <td>42.508387</td>\n",
       "      <td>69.779548</td>\n",
       "      <td>28.146645</td>\n",
       "      <td>26.754935</td>\n",
       "    </tr>\n",
       "    <tr>\n",
       "      <th>4</th>\n",
       "      <td>1999-01-05</td>\n",
       "      <td>42.514516</td>\n",
       "      <td>69.730065</td>\n",
       "      <td>28.152194</td>\n",
       "      <td>26.742581</td>\n",
       "    </tr>\n",
       "  </tbody>\n",
       "</table>\n",
       "</div>"
      ],
      "text/plain": [
       "         Date  USD_Price  GBP_Price  CAD_Price  AUD_Price\n",
       "0  1999-01-01  42.490000  69.928000  28.130000  26.792000\n",
       "1  1999-01-02  42.496129  69.878516  28.135548  26.779645\n",
       "2  1999-01-03  42.502258  69.829032  28.141097  26.767290\n",
       "3  1999-01-04  42.508387  69.779548  28.146645  26.754935\n",
       "4  1999-01-05  42.514516  69.730065  28.152194  26.742581"
      ]
     },
     "execution_count": 3,
     "metadata": {},
     "output_type": "execute_result"
    }
   ],
   "source": [
    "df = pd.read_csv('Daily_Currency_Trends.csv')\n",
    "df.head()"
   ]
  },
  {
   "cell_type": "code",
   "execution_count": 4,
   "metadata": {},
   "outputs": [
    {
     "data": {
      "text/html": [
       "<div>\n",
       "<style scoped>\n",
       "    .dataframe tbody tr th:only-of-type {\n",
       "        vertical-align: middle;\n",
       "    }\n",
       "\n",
       "    .dataframe tbody tr th {\n",
       "        vertical-align: top;\n",
       "    }\n",
       "\n",
       "    .dataframe thead th {\n",
       "        text-align: right;\n",
       "    }\n",
       "</style>\n",
       "<table border=\"1\" class=\"dataframe\">\n",
       "  <thead>\n",
       "    <tr style=\"text-align: right;\">\n",
       "      <th></th>\n",
       "      <th>USD_Price</th>\n",
       "      <th>GBP_Price</th>\n",
       "      <th>CAD_Price</th>\n",
       "      <th>AUD_Price</th>\n",
       "    </tr>\n",
       "  </thead>\n",
       "  <tbody>\n",
       "    <tr>\n",
       "      <th>count</th>\n",
       "      <td>9497.000000</td>\n",
       "      <td>9497.000000</td>\n",
       "      <td>9497.000000</td>\n",
       "      <td>9497.000000</td>\n",
       "    </tr>\n",
       "    <tr>\n",
       "      <th>mean</th>\n",
       "      <td>57.460789</td>\n",
       "      <td>85.520304</td>\n",
       "      <td>46.136608</td>\n",
       "      <td>43.180389</td>\n",
       "    </tr>\n",
       "    <tr>\n",
       "      <th>std</th>\n",
       "      <td>13.705012</td>\n",
       "      <td>11.764741</td>\n",
       "      <td>10.503573</td>\n",
       "      <td>10.912421</td>\n",
       "    </tr>\n",
       "    <tr>\n",
       "      <th>min</th>\n",
       "      <td>39.195000</td>\n",
       "      <td>66.135000</td>\n",
       "      <td>28.120000</td>\n",
       "      <td>22.670000</td>\n",
       "    </tr>\n",
       "    <tr>\n",
       "      <th>25%</th>\n",
       "      <td>45.543548</td>\n",
       "      <td>75.871500</td>\n",
       "      <td>37.099333</td>\n",
       "      <td>33.496233</td>\n",
       "    </tr>\n",
       "    <tr>\n",
       "      <th>50%</th>\n",
       "      <td>50.973929</td>\n",
       "      <td>84.228645</td>\n",
       "      <td>48.379677</td>\n",
       "      <td>47.779133</td>\n",
       "    </tr>\n",
       "    <tr>\n",
       "      <th>75%</th>\n",
       "      <td>68.588000</td>\n",
       "      <td>96.161800</td>\n",
       "      <td>54.707300</td>\n",
       "      <td>53.487000</td>\n",
       "    </tr>\n",
       "    <tr>\n",
       "      <th>max</th>\n",
       "      <td>85.554000</td>\n",
       "      <td>111.980000</td>\n",
       "      <td>62.785000</td>\n",
       "      <td>58.447000</td>\n",
       "    </tr>\n",
       "  </tbody>\n",
       "</table>\n",
       "</div>"
      ],
      "text/plain": [
       "         USD_Price    GBP_Price    CAD_Price    AUD_Price\n",
       "count  9497.000000  9497.000000  9497.000000  9497.000000\n",
       "mean     57.460789    85.520304    46.136608    43.180389\n",
       "std      13.705012    11.764741    10.503573    10.912421\n",
       "min      39.195000    66.135000    28.120000    22.670000\n",
       "25%      45.543548    75.871500    37.099333    33.496233\n",
       "50%      50.973929    84.228645    48.379677    47.779133\n",
       "75%      68.588000    96.161800    54.707300    53.487000\n",
       "max      85.554000   111.980000    62.785000    58.447000"
      ]
     },
     "execution_count": 4,
     "metadata": {},
     "output_type": "execute_result"
    }
   ],
   "source": [
    "df.describe()"
   ]
  },
  {
   "cell_type": "code",
   "execution_count": 5,
   "metadata": {},
   "outputs": [
    {
     "data": {
      "text/plain": [
       "Index(['Date', 'USD_Price', 'GBP_Price', 'CAD_Price', 'AUD_Price'], dtype='object')"
      ]
     },
     "execution_count": 5,
     "metadata": {},
     "output_type": "execute_result"
    }
   ],
   "source": [
    "df.columns"
   ]
  },
  {
   "cell_type": "code",
   "execution_count": 6,
   "metadata": {},
   "outputs": [],
   "source": [
    "X = df[ 'USD_Price' ]\n",
    "y = df[ 'GBP_Price' ]"
   ]
  },
  {
   "cell_type": "code",
   "execution_count": 15,
   "metadata": {},
   "outputs": [],
   "source": [
    "x_train,x_test,y_train,y_test=train_test_split(X,y,train_size=0.7,test_size=0.3,random_state=100)"
   ]
  },
  {
   "cell_type": "code",
   "execution_count": 20,
   "metadata": {},
   "outputs": [
    {
     "name": "stdout",
     "output_type": "stream",
     "text": [
      "4933    55.556613\n",
      "823     46.850667\n",
      "785     46.679643\n",
      "6090    65.497600\n",
      "5353    62.991935\n",
      "          ...    \n",
      "350     43.564516\n",
      "79      42.666290\n",
      "8039    72.977935\n",
      "6936    63.577419\n",
      "5640    60.213333\n",
      "Name: USD_Price, Length: 6647, dtype: float64\n"
     ]
    }
   ],
   "source": [
    "print(x_train)"
   ]
  },
  {
   "cell_type": "code",
   "execution_count": 21,
   "metadata": {},
   "outputs": [
    {
     "name": "stdout",
     "output_type": "stream",
     "text": [
      "6450    66.586355\n",
      "4870    56.022903\n",
      "2792    46.057097\n",
      "4459    44.381452\n",
      "1467    47.763226\n",
      "          ...    \n",
      "7953    74.390258\n",
      "3683    50.935484\n",
      "5929    63.320161\n",
      "5989    63.620903\n",
      "527     44.783333\n",
      "Name: USD_Price, Length: 2850, dtype: float64\n"
     ]
    }
   ],
   "source": [
    "print(x_test)"
   ]
  },
  {
   "cell_type": "code",
   "execution_count": 22,
   "metadata": {},
   "outputs": [
    {
     "name": "stdout",
     "output_type": "stream",
     "text": [
      "6450    86.500355\n",
      "4870    86.330742\n",
      "2792    86.451516\n",
      "4459    72.749194\n",
      "1467    78.018839\n",
      "          ...    \n",
      "7953    97.084452\n",
      "3683    72.923000\n",
      "5929    96.654065\n",
      "5989    99.401935\n",
      "527     67.679333\n",
      "Name: GBP_Price, Length: 2850, dtype: float64\n"
     ]
    }
   ],
   "source": [
    "print(y_test)"
   ]
  },
  {
   "cell_type": "code",
   "execution_count": 23,
   "metadata": {},
   "outputs": [
    {
     "name": "stdout",
     "output_type": "stream",
     "text": [
      "6450    86.500355\n",
      "4870    86.330742\n",
      "2792    86.451516\n",
      "4459    72.749194\n",
      "1467    78.018839\n",
      "          ...    \n",
      "7953    97.084452\n",
      "3683    72.923000\n",
      "5929    96.654065\n",
      "5989    99.401935\n",
      "527     67.679333\n",
      "Name: GBP_Price, Length: 2850, dtype: float64\n"
     ]
    }
   ],
   "source": [
    "print(y_test)"
   ]
  },
  {
   "cell_type": "code",
   "execution_count": 16,
   "metadata": {},
   "outputs": [],
   "source": [
    "import statsmodels.api as sm"
   ]
  },
  {
   "cell_type": "code",
   "execution_count": 17,
   "metadata": {},
   "outputs": [],
   "source": [
    "x_train_sm=sm.add_constant(x_train)\n",
    "linreg=sm.OLS(y_train,x_train_sm).fit()"
   ]
  },
  {
   "cell_type": "code",
   "execution_count": 18,
   "metadata": {},
   "outputs": [],
   "source": [
    "sum=linreg.summary()"
   ]
  },
  {
   "cell_type": "code",
   "execution_count": 19,
   "metadata": {},
   "outputs": [
    {
     "name": "stdout",
     "output_type": "stream",
     "text": [
      "                            OLS Regression Results                            \n",
      "==============================================================================\n",
      "Dep. Variable:              GBP_Price   R-squared:                       0.700\n",
      "Model:                            OLS   Adj. R-squared:                  0.700\n",
      "Method:                 Least Squares   F-statistic:                 1.550e+04\n",
      "Date:                Mon, 07 Apr 2025   Prob (F-statistic):               0.00\n",
      "Time:                        16:10:44   Log-Likelihood:                -21779.\n",
      "No. Observations:                6647   AIC:                         4.356e+04\n",
      "Df Residuals:                    6645   BIC:                         4.358e+04\n",
      "Df Model:                           1                                         \n",
      "Covariance Type:            nonrobust                                         \n",
      "==============================================================================\n",
      "                 coef    std err          t      P>|t|      [0.025      0.975]\n",
      "------------------------------------------------------------------------------\n",
      "const         44.4208      0.339    130.882      0.000      43.755      45.086\n",
      "USD_Price      0.7156      0.006    124.493      0.000       0.704       0.727\n",
      "==============================================================================\n",
      "Omnibus:                      759.774   Durbin-Watson:                   2.034\n",
      "Prob(Omnibus):                  0.000   Jarque-Bera (JB):              244.892\n",
      "Skew:                           0.200   Prob(JB):                     6.64e-54\n",
      "Kurtosis:                       2.149   Cond. No.                         255.\n",
      "==============================================================================\n",
      "\n",
      "Notes:\n",
      "[1] Standard Errors assume that the covariance matrix of the errors is correctly specified.\n"
     ]
    }
   ],
   "source": [
    "print(sum)"
   ]
  },
  {
   "cell_type": "code",
   "execution_count": null,
   "metadata": {},
   "outputs": [],
   "source": []
  }
 ],
 "metadata": {
  "kernelspec": {
   "display_name": "Python 3",
   "language": "python",
   "name": "python3"
  },
  "language_info": {
   "codemirror_mode": {
    "name": "ipython",
    "version": 3
   },
   "file_extension": ".py",
   "mimetype": "text/x-python",
   "name": "python",
   "nbconvert_exporter": "python",
   "pygments_lexer": "ipython3",
   "version": "3.10.9"
  }
 },
 "nbformat": 4,
 "nbformat_minor": 2
}
